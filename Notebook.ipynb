{
 "cells": [
  {
   "metadata": {},
   "cell_type": "markdown",
   "source": [
    "# TicTacToe game library\n",
    "Description of functionalities"
   ]
  },
  {
   "metadata": {
    "tags": [],
    "ExecuteTime": {
     "end_time": "2025-10-07T13:27:13.046475659Z",
     "start_time": "2025-10-07T13:27:12.847123689Z"
    }
   },
   "cell_type": "code",
   "source": [
    "import org.example.tictactoe.games.TicTacToeGame\n",
    "\n",
    "// a minimum code needed to create the game. You can extend TicTacToeGame class to provide own logic of the game\n",
    "val game = TicTacToeGame()\n",
    "game.start()\n",
    "\n",
    "// also you can take a look at current player's name and type\n",
    "println(\"Current player's name and role: ${game.currentPlayerName}, ${game.currentPlayerType}\")\n",
    "\n",
    "// after that you can mark cells\n",
    "// this function returns state of the game\n",
    "val state = game.move(0, 0);\n",
    "println(\"Current state: ${state}\")\n",
    "\n",
    "println(\"Current player's name and role: ${game.currentPlayerName}, ${game.currentPlayerType}\")\n",
    "game.move(0, 1);\n",
    "// you can check the game result if it was finished, otherwise it returns null\n",
    "println(\"Game result: ${game.result}\")"
   ],
   "outputs": [
    {
     "name": "stdout",
     "output_type": "stream",
     "text": [
      "Current player's name and role: Player X, X\n",
      "Current state: In Progress\n",
      "Current player's name and role: Player O, O\n",
      "Game result: null\n"
     ]
    }
   ],
   "execution_count": 26
  },
  {
   "metadata": {},
   "cell_type": "markdown",
   "source": "Random AI implementation"
  },
  {
   "metadata": {
    "ExecuteTime": {
     "end_time": "2025-10-07T13:27:13.264683588Z",
     "start_time": "2025-10-07T13:27:13.099450085Z"
    }
   },
   "cell_type": "code",
   "source": [
    "import org.example.tictactoe.games.impl.RandomAiTicTacToeGame\n",
    "import org.example.tictactoe.games.AiMove\n",
    "\n",
    "// AiMove interface has only function to define the logic of AI move\n",
    "var randomAiGame = RandomAiTicTacToeGame()\n",
    "randomAiGame.start()\n",
    "\n",
    "println(\"Current player's name and role: ${randomAiGame.currentPlayerName}, ${randomAiGame.currentPlayerType}\")\n",
    "randomAiGame.move(0, 0)\n",
    "\n",
    "val res = randomAiGame.makeMove()\n",
    "println(\"Ai move: $res\")\n",
    "\n",
    "println(\"Current player's name and role: ${randomAiGame.currentPlayerName}, ${randomAiGame.currentPlayerType}\")\n",
    "randomAiGame.move(res.row, res.col);"
   ],
   "outputs": [
    {
     "name": "stdout",
     "output_type": "stream",
     "text": [
      "Current player's name and role: Player X, X\n",
      "Ai move: Point[row=1, col=2]\n",
      "Current player's name and role: Player O, O\n"
     ]
    },
    {
     "data": {
      "text/plain": [
       "In Progress"
      ]
     },
     "execution_count": 27,
     "metadata": {},
     "output_type": "execute_result"
    }
   ],
   "execution_count": 27
  },
  {
   "metadata": {},
   "cell_type": "markdown",
   "source": "TicTacToeBoard logic"
  },
  {
   "metadata": {
    "ExecuteTime": {
     "end_time": "2025-10-07T13:27:13.526291012Z",
     "start_time": "2025-10-07T13:27:13.289055788Z"
    }
   },
   "cell_type": "code",
   "source": [
    "import org.example.tictactoe.boards.TicTacToeBoard\n",
    "\n",
    "// under the hood, TicTacToeGame class utilizes TicTacToeBoard class for board logic\n",
    "val board = game.board\n",
    "println(\"You can view the copy of the original array with all the cells:\")\n",
    "\n",
    "board.players.forEach { row ->\n",
    "    println(row.joinToString(\" \") { cell -> cell?.toString() ?: \".\" })\n",
    "}\n",
    "\n",
    "// You can view the content of the individual cell\n",
    "println(\"Cell with coordinated {0, 0}: ${board.getPlayer(0, 0)}\")\n",
    "\n",
    "// The last function right there is move() but we won't call as it breaks the logic of the game if it's called outside of context of TicTacToeGame"
   ],
   "outputs": [
    {
     "name": "stdout",
     "output_type": "stream",
     "text": [
      "You can view the copy of the original array with all the cells:\n",
      "X O .\n",
      ". . .\n",
      ". . .\n",
      "Cell with coordinated {0, 0}: X\n"
     ]
    }
   ],
   "execution_count": 28
  }
 ],
 "metadata": {
  "kernelspec": {
   "display_name": "Kotlin",
   "language": "kotlin",
   "name": "kotlin"
  },
  "language_info": {
   "name": "kotlin",
   "version": "2.2.20-Beta2",
   "mimetype": "text/x-kotlin",
   "file_extension": ".kt",
   "pygments_lexer": "kotlin",
   "codemirror_mode": "text/x-kotlin",
   "nbconvert_exporter": ""
  },
  "ktnbPluginMetadata": {
   "projectDependencies": [
    "TicTacToe.lib.main"
   ],
   "projectLibraries": false
  }
 },
 "nbformat": 4,
 "nbformat_minor": 0
}
