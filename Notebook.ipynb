{
 "cells": [
  {
   "metadata": {},
   "cell_type": "markdown",
   "source": [
    "# TicTacToe game library\n",
    "Description of functionalities"
   ]
  },
  {
   "metadata": {
    "tags": [],
    "ExecuteTime": {
     "end_time": "2025-10-07T21:58:22.593511278Z",
     "start_time": "2025-10-07T21:58:22.192860106Z"
    }
   },
   "cell_type": "code",
   "source": [
    "import org.example.tictactoe.games.TicTacToeGame\n",
    "\n",
    "// a minimum code needed to create the game. You can extend TicTacToeGame class to provide own logic of the game\n",
    "val game = TicTacToeGame()\n",
    "game.start()\n",
    "\n",
    "// also you can take a look at current player's name and type\n",
    "println(\"Current player's name and role: ${game.currentPlayerName}, ${game.currentPlayerType}\")\n",
    "\n",
    "// after that you can mark cells\n",
    "// this function returns state of the game\n",
    "val state = game.move(0, 0);\n",
    "println(\"Current state: ${state}\")\n",
    "\n",
    "println(\"Current player's name and role: ${game.currentPlayerName}, ${game.currentPlayerType}\")\n",
    "game.move(0, 1);\n",
    "// you can check the game result if it was finished, otherwise it returns null\n",
    "println(\"Game result: ${game.result}\")"
   ],
   "outputs": [
    {
     "name": "stdout",
     "output_type": "stream",
     "text": [
      "Current player's name and role: Player X, X\n",
      "Current state: In Progress\n",
      "Current player's name and role: Player O, O\n",
      "Game result: null\n"
     ]
    }
   ],
   "execution_count": 4
  },
  {
   "metadata": {},
   "cell_type": "markdown",
   "source": "Random AI implementation"
  },
  {
   "metadata": {
    "ExecuteTime": {
     "end_time": "2025-10-07T21:58:22.868882957Z",
     "start_time": "2025-10-07T21:58:22.609228418Z"
    }
   },
   "cell_type": "code",
   "source": [
    "import org.example.tictactoe.games.impl.RandomAiTicTacToeGame\n",
    "import org.example.tictactoe.games.AiMove\n",
    "\n",
    "// AiMove interface has only function to define the logic of AI move\n",
    "var randomAiGame = RandomAiTicTacToeGame()\n",
    "randomAiGame.start()\n",
    "\n",
    "println(\"Current player's name and role: ${randomAiGame.currentPlayerName}, ${randomAiGame.currentPlayerType}\")\n",
    "randomAiGame.move(0, 0)\n",
    "\n",
    "val res = randomAiGame.makeMove()\n",
    "println(\"Ai move: $res\")\n",
    "\n",
    "println(\"Current player's name and role: ${randomAiGame.currentPlayerName}, ${randomAiGame.currentPlayerType}\")\n",
    "randomAiGame.move(res.row, res.col);"
   ],
   "outputs": [
    {
     "name": "stdout",
     "output_type": "stream",
     "text": [
      "Current player's name and role: Player X, X\n",
      "Ai move: Point[row=2, col=1]\n",
      "Current player's name and role: Player O, O\n"
     ]
    },
    {
     "data": {
      "text/plain": [
       "In Progress"
      ]
     },
     "execution_count": 5,
     "metadata": {},
     "output_type": "execute_result"
    }
   ],
   "execution_count": 5
  },
  {
   "metadata": {},
   "cell_type": "markdown",
   "source": "Min Max AI Implementation"
  },
  {
   "metadata": {
    "ExecuteTime": {
     "end_time": "2025-10-07T21:58:23.402627253Z",
     "start_time": "2025-10-07T21:58:23.002341734Z"
    }
   },
   "cell_type": "code",
   "source": [
    "import org.example.tictactoe.games.impl.MinMaxAiTicTacToeGame\n",
    "\n",
    "// Also implements AIMove interface but it's smart, when I was testing it, second try it won. It implements MinMax algorithm for finding the best move\n",
    "var minMaxAiGame = MinMaxAiTicTacToeGame()\n",
    "minMaxAiGame.start()\n",
    "\n",
    "println(\"Current player's name and role: ${randomAiGame.currentPlayerName}, ${randomAiGame.currentPlayerType}\")\n",
    "randomAiGame.move(1, 1)\n",
    "\n",
    "val res = randomAiGame.makeMove()\n",
    "println(\"Ai move: $res\")\n",
    "\n",
    "println(\"Current player's name and role: ${randomAiGame.currentPlayerName}, ${randomAiGame.currentPlayerType}\")\n",
    "randomAiGame.move(res.row, res.col);"
   ],
   "outputs": [
    {
     "name": "stdout",
     "output_type": "stream",
     "text": [
      "Current player's name and role: Player X, X\n",
      "Ai move: Point[row=0, col=2]\n",
      "Current player's name and role: Player O, O\n"
     ]
    },
    {
     "data": {
      "text/plain": [
       "In Progress"
      ]
     },
     "execution_count": 6,
     "metadata": {},
     "output_type": "execute_result"
    }
   ],
   "execution_count": 6
  },
  {
   "metadata": {},
   "cell_type": "markdown",
   "source": "TicTacToeBoard logic\n"
  },
  {
   "metadata": {
    "ExecuteTime": {
     "end_time": "2025-10-07T21:58:24.085805962Z",
     "start_time": "2025-10-07T21:58:23.587536634Z"
    }
   },
   "cell_type": "code",
   "source": [
    "import org.example.tictactoe.boards.TicTacToeBoard\n",
    "\n",
    "// under the hood, TicTacToeGame class utilizes TicTacToeBoard class for board logic\n",
    "val board = game.board\n",
    "println(\"You can view the copy of the original array with all the cells:\")\n",
    "\n",
    "board.players.forEach { row ->\n",
    "    println(row.joinToString(\" \") { cell -> cell?.toString() ?: \".\" })\n",
    "}\n",
    "\n",
    "// You can view the content of the individual cell\n",
    "println(\"Cell with coordinated {0, 0}: ${board.getPlayer(0, 0)}\")\n",
    "\n",
    "// The last function right there is move() but we won't call as it breaks the logic of the game if it's called outside of context of TicTacToeGame"
   ],
   "outputs": [
    {
     "name": "stdout",
     "output_type": "stream",
     "text": [
      "You can view the copy of the original array with all the cells:\n",
      "X O .\n",
      ". . .\n",
      ". . .\n",
      "Cell with coordinated {0, 0}: X\n"
     ]
    }
   ],
   "execution_count": 7
  }
 ],
 "metadata": {
  "kernelspec": {
   "display_name": "Kotlin",
   "language": "kotlin",
   "name": "kotlin"
  },
  "language_info": {
   "name": "kotlin",
   "version": "2.2.20-Beta2",
   "mimetype": "text/x-kotlin",
   "file_extension": ".kt",
   "pygments_lexer": "kotlin",
   "codemirror_mode": "text/x-kotlin",
   "nbconvert_exporter": ""
  },
  "ktnbPluginMetadata": {
   "projectDependencies": [
    "TicTacToe.lib.main"
   ],
   "projectLibraries": false
  }
 },
 "nbformat": 4,
 "nbformat_minor": 0
}
